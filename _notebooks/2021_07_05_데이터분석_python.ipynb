{
  "nbformat": 4,
  "nbformat_minor": 0,
  "metadata": {
    "colab": {
      "name": "2021_07_05_데이터분석_python.ipynb",
      "provenance": [],
      "collapsed_sections": [
        "SX1qZ37imKNd",
        "64mTBV5YovP2",
        "uwmXah2Rw5hA",
        "qjCLqxmUcVsy",
        "BcKXXyZwoAXc",
        "WwTNI7-coylD",
        "JpAZdGTSruzH",
        "_AphON8n0NTT",
        "Wf3bWK_52rQD",
        "cfhcR-vJ-Xme",
        "CkHhT2gDH9kS",
        "urp6rP837qsI",
        "LDA6V96sLETM"
      ]
    },
    "kernelspec": {
      "display_name": "Python 3",
      "name": "python3"
    },
    "language_info": {
      "name": "python"
    }
  },
  "cells": [
    {
      "cell_type": "markdown",
      "metadata": {
        "id": "MrKsxjYaMsZl"
      },
      "source": [
        "# \"데이터 분석 python 기초 문법 노트북\"\n",
        "> \"2021년 여름방학 데이터분석을 위한 python 기초문법\"\n",
        "\n",
        "- toc:true\n",
        "- branch: master\n",
        "- badges: true\n",
        "- comments: true\n",
        "- author: Hamel Husain & Jeremy Howard\n",
        "- categories: [fastpages, jupyter]"
      ]
    },
    {
      "cell_type": "code",
      "metadata": {
        "colab": {
          "base_uri": "https://localhost:8080/"
        },
        "id": "ERkmBpNOX2SD",
        "outputId": "026b93a2-177e-46e8-c722-93b015215fd3"
      },
      "source": [
        "x = 3\n",
        "y = 7\n",
        "x + y"
      ],
      "execution_count": null,
      "outputs": [
        {
          "output_type": "execute_result",
          "data": {
            "text/plain": [
              "10"
            ]
          },
          "metadata": {
            "tags": []
          },
          "execution_count": 2
        }
      ]
    },
    {
      "cell_type": "markdown",
      "metadata": {
        "id": "T4Uhp65sYOpj"
      },
      "source": [
        "# 마크다운\n",
        "## \n",
        "### 마크다운\n",
        "\n",
        "* hello world\n",
        "* hello world\n",
        "* hello world\n",
        "\n",
        "1. hello world\n",
        "2. hello world\n",
        "3. hello world\n",
        "\n",
        "\n"
      ]
    },
    {
      "cell_type": "markdown",
      "metadata": {
        "id": "vNmv9jz9a-cY"
      },
      "source": [
        "## 변수\n",
        "\n"
      ]
    },
    {
      "cell_type": "markdown",
      "metadata": {
        "id": "gj-ln5r5bHza"
      },
      "source": [
        "* 대문자와 소문자는 다릅니다!\n",
        "* 변수명에 띄어쓰기를 쓰지 않습니다!\n",
        "* 맨 앞에 숫자를 사용사지 않습니다!\n",
        "* 카멜 표기법이나 스네이크 포기법 중 일반 변수는 스네이크 표기법을 사용합니다.\n",
        "* for, if, print, sum 등 이미 예약되어 있는 것은 변수로 사용하지 않습니다."
      ]
    },
    {
      "cell_type": "code",
      "metadata": {
        "colab": {
          "base_uri": "https://localhost:8080/"
        },
        "id": "lrgzT8OmbQwB",
        "outputId": "953f96b1-9853-44de-99b9-02d7c8feb63d"
      },
      "source": [
        "x = 3\n",
        "y = 7\n",
        "x + y\n",
        "x - y\n",
        "x * y\n",
        "x // y #print() 없으면 젤 마지막 부분만 결과가 나온다"
      ],
      "execution_count": null,
      "outputs": [
        {
          "output_type": "execute_result",
          "data": {
            "text/plain": [
              "0"
            ]
          },
          "metadata": {
            "tags": []
          },
          "execution_count": 5
        }
      ]
    },
    {
      "cell_type": "code",
      "metadata": {
        "colab": {
          "base_uri": "https://localhost:8080/"
        },
        "id": "fI4LikVYbncp",
        "outputId": "210712e1-1c3e-41e2-ec9a-15e505ed1cab"
      },
      "source": [
        "x = 3\n",
        "y = 7\n",
        "print(x + y)\n",
        "print(x - y)\n",
        "print(x * y)\n",
        "print(x // y)"
      ],
      "execution_count": null,
      "outputs": [
        {
          "output_type": "stream",
          "text": [
            "10\n",
            "-4\n",
            "21\n",
            "0\n"
          ],
          "name": "stdout"
        }
      ]
    },
    {
      "cell_type": "code",
      "metadata": {
        "colab": {
          "base_uri": "https://localhost:8080/"
        },
        "id": "ZEhcWdmTcS9z",
        "outputId": "de2255ec-839e-48ed-a177-83b4a0642ce9"
      },
      "source": [
        "a = 10 # int : 정수\n",
        "b = '10' # str :문자\n",
        "c = 'lee' #\n",
        "d = 'hojun'\n",
        "e = True # bool : 블리언\n",
        "f = 10.1 #flaot : 실수\n",
        "print(type(a))"
      ],
      "execution_count": null,
      "outputs": [
        {
          "output_type": "stream",
          "text": [
            "<class 'int'>\n"
          ],
          "name": "stdout"
        }
      ]
    },
    {
      "cell_type": "code",
      "metadata": {
        "colab": {
          "base_uri": "https://localhost:8080/"
        },
        "id": "NaHg52v1d5dA",
        "outputId": "e9740677-add7-47fa-c47a-be4bd2aa2005"
      },
      "source": [
        "3 > 10"
      ],
      "execution_count": null,
      "outputs": [
        {
          "output_type": "execute_result",
          "data": {
            "text/plain": [
              "False"
            ]
          },
          "metadata": {
            "tags": []
          },
          "execution_count": 17
        }
      ]
    },
    {
      "cell_type": "code",
      "metadata": {
        "colab": {
          "base_uri": "https://localhost:8080/",
          "height": 176
        },
        "id": "uYjHm6WNeMDu",
        "outputId": "0d5a143e-bf74-4110-9269-479ac9884c1c"
      },
      "source": [
        "a + b"
      ],
      "execution_count": null,
      "outputs": [
        {
          "output_type": "error",
          "ename": "NameError",
          "evalue": "ignored",
          "traceback": [
            "\u001b[0;31m---------------------------------------------------------------------------\u001b[0m",
            "\u001b[0;31mNameError\u001b[0m                                 Traceback (most recent call last)",
            "\u001b[0;32m<ipython-input-19-bd58363a63fc>\u001b[0m in \u001b[0;36m<module>\u001b[0;34m()\u001b[0m\n\u001b[0;32m----> 1\u001b[0;31m \u001b[0ma\u001b[0m \u001b[0;34m+\u001b[0m \u001b[0mb\u001b[0m\u001b[0;34m\u001b[0m\u001b[0;34m\u001b[0m\u001b[0m\n\u001b[0m",
            "\u001b[0;31mNameError\u001b[0m: name 'a' is not defined"
          ]
        }
      ]
    },
    {
      "cell_type": "code",
      "metadata": {
        "colab": {
          "base_uri": "https://localhost:8080/"
        },
        "id": "A4t49le6edbP",
        "outputId": "a32d6fd3-4e60-43a1-b9a9-e8590887d500"
      },
      "source": [
        "a = [10,20,30,10.1,20,1,30.1,'hojun'] #list #이미지와 동영상은 리스트이다 왜냐하면 rgb로 (3차원의 이미지, 4차원의 동영상)되어있기때문이다.\n",
        "b = (10,20,30) # tuple\n",
        "c = {10,20,30,30,30} #set\n",
        "d = {'one':1, 'two':2} #dict\n",
        "print(type(a))"
      ],
      "execution_count": null,
      "outputs": [
        {
          "output_type": "stream",
          "text": [
            "<class 'list'>\n"
          ],
          "name": "stdout"
        }
      ]
    },
    {
      "cell_type": "code",
      "metadata": {
        "colab": {
          "base_uri": "https://localhost:8080/"
        },
        "id": "k4MmxBzJfeea",
        "outputId": "c489e749-2e81-4c98-e8e8-4664a6037e9c"
      },
      "source": [
        "a.pop() #a 있는 마지막 요소를 뺀다\n",
        "sum(a) # sum을 계속해서 하면 a 마지막 요소가 계속 바뀌어서 결과값이 바뀐다."
      ],
      "execution_count": null,
      "outputs": [
        {
          "output_type": "execute_result",
          "data": {
            "text/plain": [
              "71"
            ]
          },
          "metadata": {
            "tags": []
          },
          "execution_count": 25
        }
      ]
    },
    {
      "cell_type": "markdown",
      "metadata": {
        "id": "s0lV2ND-jpK5"
      },
      "source": [
        "# 형변환"
      ]
    },
    {
      "cell_type": "code",
      "metadata": {
        "colab": {
          "base_uri": "https://localhost:8080/"
        },
        "id": "y920wztLjofr",
        "outputId": "3a267f67-f0cb-4979-93d3-aa9825799289"
      },
      "source": [
        " a = 10\n",
        " b = '10'\n",
        " print(str(a)+b)\n",
        " print(a+int(b))"
      ],
      "execution_count": null,
      "outputs": [
        {
          "output_type": "stream",
          "text": [
            "1010\n",
            "20\n"
          ],
          "name": "stdout"
        }
      ]
    },
    {
      "cell_type": "markdown",
      "metadata": {
        "id": "uDEGG3qYkvl1"
      },
      "source": [
        "# 산술연산"
      ]
    },
    {
      "cell_type": "code",
      "metadata": {
        "colab": {
          "base_uri": "https://localhost:8080/"
        },
        "id": "nIt4CxURk01E",
        "outputId": "27d54603-3909-4cc1-b863-22054fda2741"
      },
      "source": [
        "a = 7\n",
        "b = 3\n",
        "print(a + b)\n",
        "print(a - b)\n",
        "print(a * b)\n",
        "print(a / b)\n",
        "print(a // b)\n",
        "print(a ** b)\n",
        "print(a % b)"
      ],
      "execution_count": null,
      "outputs": [
        {
          "output_type": "stream",
          "text": [
            "10\n",
            "4\n",
            "21\n",
            "2.3333333333333335\n",
            "2\n",
            "343\n",
            "1\n"
          ],
          "name": "stdout"
        }
      ]
    },
    {
      "cell_type": "markdown",
      "metadata": {
        "id": "IOP6fv5EmGju"
      },
      "source": [
        ""
      ]
    },
    {
      "cell_type": "markdown",
      "metadata": {
        "id": "SX1qZ37imKNd"
      },
      "source": [
        "## 비교연산\n"
      ]
    },
    {
      "cell_type": "code",
      "metadata": {
        "colab": {
          "base_uri": "https://localhost:8080/"
        },
        "id": "1Q_13V-6mD3J",
        "outputId": "fa288740-8711-4979-c249-5c1b57d2ea13"
      },
      "source": [
        "a = 3\n",
        "b = 5\n",
        "print(a > b)\n",
        "print(a >= b)\n",
        "print(a < b)\n",
        "print(a <= b)\n",
        "print(a == b)\n",
        "print(a != b)"
      ],
      "execution_count": null,
      "outputs": [
        {
          "output_type": "stream",
          "text": [
            "False\n",
            "False\n",
            "True\n",
            "True\n",
            "False\n",
            "True\n"
          ],
          "name": "stdout"
        }
      ]
    },
    {
      "cell_type": "markdown",
      "metadata": {
        "id": "64mTBV5YovP2"
      },
      "source": [
        "## 논리연산"
      ]
    },
    {
      "cell_type": "code",
      "metadata": {
        "colab": {
          "base_uri": "https://localhost:8080/"
        },
        "id": "pkOKihJLoxf0",
        "outputId": "f7aa9455-b64b-4447-a4dc-3b77ef613e62"
      },
      "source": [
        "\n",
        "\n",
        "#  주석입니다. 주석은 실행하지 않습니다.\n",
        " a = 10\n",
        " b = 20\n",
        " a + b"
      ],
      "execution_count": null,
      "outputs": [
        {
          "output_type": "execute_result",
          "data": {
            "text/plain": [
              "30"
            ]
          },
          "metadata": {
            "tags": []
          },
          "execution_count": 34
        }
      ]
    },
    {
      "cell_type": "code",
      "metadata": {
        "colab": {
          "base_uri": "https://localhost:8080/"
        },
        "id": "LgreiVMDpVV2",
        "outputId": "e9333bdc-a96b-4be0-b345-ca24083150ea"
      },
      "source": [
        "a = True # 1\n",
        "b = False #0\n",
        "\n",
        "print(a and b)\n",
        "print(a or b)\n",
        "print(not a)"
      ],
      "execution_count": null,
      "outputs": [
        {
          "output_type": "stream",
          "text": [
            "False\n",
            "True\n",
            "False\n"
          ],
          "name": "stdout"
        }
      ]
    },
    {
      "cell_type": "code",
      "metadata": {
        "colab": {
          "base_uri": "https://localhost:8080/"
        },
        "id": "on1no3F4qmkl",
        "outputId": "9ccf9221-1b87-44ef-dceb-d4f5cc599737"
      },
      "source": [
        "result = 0\n",
        "for i in range(101):\n",
        "  if i % 3 == 0 or i % 5 == 0:\n",
        "    result = result + i\n",
        "\n",
        "print(result)"
      ],
      "execution_count": null,
      "outputs": [
        {
          "output_type": "stream",
          "text": [
            "2418\n"
          ],
          "name": "stdout"
        }
      ]
    },
    {
      "cell_type": "markdown",
      "metadata": {
        "id": "uwmXah2Rw5hA"
      },
      "source": [
        "## 문자열"
      ]
    },
    {
      "cell_type": "code",
      "metadata": {
        "colab": {
          "base_uri": "https://localhost:8080/"
        },
        "id": "qW4nnmLGw-6d",
        "outputId": "38425244-c95c-4486-fd6f-1cc0c3fd196b"
      },
      "source": [
        "s = 'paullab CEO leehojun'\n",
        "s.count('l')"
      ],
      "execution_count": null,
      "outputs": [
        {
          "output_type": "execute_result",
          "data": {
            "text/plain": [
              "3"
            ]
          },
          "metadata": {
            "tags": []
          },
          "execution_count": 94
        }
      ]
    },
    {
      "cell_type": "code",
      "metadata": {
        "colab": {
          "base_uri": "https://localhost:8080/"
        },
        "id": "NqOIhf_oxj37",
        "outputId": "74c1bd82-ef93-4871-db7f-4c66ad665f82"
      },
      "source": [
        "s.count(' ')"
      ],
      "execution_count": null,
      "outputs": [
        {
          "output_type": "execute_result",
          "data": {
            "text/plain": [
              "3"
            ]
          },
          "metadata": {
            "tags": []
          },
          "execution_count": 77
        }
      ]
    },
    {
      "cell_type": "code",
      "metadata": {
        "colab": {
          "base_uri": "https://localhost:8080/",
          "height": 35
        },
        "id": "R6bEU_Adx2ov",
        "outputId": "d553d19f-db18-4dc0-9c0f-215c03a029e6"
      },
      "source": [
        "s.upper()"
      ],
      "execution_count": null,
      "outputs": [
        {
          "output_type": "execute_result",
          "data": {
            "application/vnd.google.colaboratory.intrinsic+json": {
              "type": "string"
            },
            "text/plain": [
              "'PAULLAB A CEO LEEHOJUN'"
            ]
          },
          "metadata": {
            "tags": []
          },
          "execution_count": 79
        }
      ]
    },
    {
      "cell_type": "code",
      "metadata": {
        "colab": {
          "base_uri": "https://localhost:8080/",
          "height": 35
        },
        "id": "XM6vD06Rx6h5",
        "outputId": "b8ec7c9f-3230-4812-8128-598a621eab5b"
      },
      "source": [
        "s.lower()"
      ],
      "execution_count": null,
      "outputs": [
        {
          "output_type": "execute_result",
          "data": {
            "application/vnd.google.colaboratory.intrinsic+json": {
              "type": "string"
            },
            "text/plain": [
              "'paullab a ceo leehojun'"
            ]
          },
          "metadata": {
            "tags": []
          },
          "execution_count": 81
        }
      ]
    },
    {
      "cell_type": "code",
      "metadata": {
        "colab": {
          "base_uri": "https://localhost:8080/"
        },
        "id": "ZRCfJNZHx89M",
        "outputId": "e2181d36-ad9a-43ce-fbea-976b4fed5673"
      },
      "source": [
        "s.split(' ')"
      ],
      "execution_count": null,
      "outputs": [
        {
          "output_type": "execute_result",
          "data": {
            "text/plain": [
              "['paullab', 'a', 'CEO', 'leehojun']"
            ]
          },
          "metadata": {
            "tags": []
          },
          "execution_count": 84
        }
      ]
    },
    {
      "cell_type": "code",
      "metadata": {
        "colab": {
          "base_uri": "https://localhost:8080/",
          "height": 35
        },
        "id": "-1G0SNC4yNWa",
        "outputId": "515d1180-6fed-44ae-c0b5-0675c5ec74ee"
      },
      "source": [
        "'-'.join(['a', 'b', 'c'])"
      ],
      "execution_count": null,
      "outputs": [
        {
          "output_type": "execute_result",
          "data": {
            "application/vnd.google.colaboratory.intrinsic+json": {
              "type": "string"
            },
            "text/plain": [
              "'a-b-c'"
            ]
          },
          "metadata": {
            "tags": []
          },
          "execution_count": 90
        }
      ]
    },
    {
      "cell_type": "code",
      "metadata": {
        "colab": {
          "base_uri": "https://localhost:8080/",
          "height": 35
        },
        "id": "yQGEMEC_y78D",
        "outputId": "19de7537-92b2-423d-eed7-8bedb8cb6560"
      },
      "source": [
        "d = s.split(' ')\n",
        "'-'.join(d)"
      ],
      "execution_count": null,
      "outputs": [
        {
          "output_type": "execute_result",
          "data": {
            "application/vnd.google.colaboratory.intrinsic+json": {
              "type": "string"
            },
            "text/plain": [
              "'paullab-CEO-leehojun'"
            ]
          },
          "metadata": {
            "tags": []
          },
          "execution_count": 95
        }
      ]
    },
    {
      "cell_type": "code",
      "metadata": {
        "colab": {
          "base_uri": "https://localhost:8080/",
          "height": 172
        },
        "id": "Dz3RcsiOzySI",
        "outputId": "95ec61cf-44c2-4cc8-86a7-2b2e2be4da33"
      },
      "source": [
        "dir(s)"
      ],
      "execution_count": null,
      "outputs": [
        {
          "output_type": "error",
          "ename": "NameError",
          "evalue": "ignored",
          "traceback": [
            "\u001b[0;31m---------------------------------------------------------------------------\u001b[0m",
            "\u001b[0;31mNameError\u001b[0m                                 Traceback (most recent call last)",
            "\u001b[0;32m<ipython-input-1-329b0c3540c5>\u001b[0m in \u001b[0;36m<module>\u001b[0;34m()\u001b[0m\n\u001b[0;32m----> 1\u001b[0;31m \u001b[0mdir\u001b[0m\u001b[0;34m(\u001b[0m\u001b[0ms\u001b[0m\u001b[0;34m)\u001b[0m\u001b[0;34m\u001b[0m\u001b[0;34m\u001b[0m\u001b[0m\n\u001b[0m",
            "\u001b[0;31mNameError\u001b[0m: name 's' is not defined"
          ]
        }
      ]
    },
    {
      "cell_type": "code",
      "metadata": {
        "colab": {
          "base_uri": "https://localhost:8080/"
        },
        "id": "hNGx2FDU0Dbb",
        "outputId": "9249039d-d8be-42b0-bdab-c94911900f89"
      },
      "source": [
        "s = '         hello world'\n",
        "print(s)\n",
        "print(s.strip()) # 공백지우기\n",
        "print(s.replace(' ','')) "
      ],
      "execution_count": null,
      "outputs": [
        {
          "output_type": "stream",
          "text": [
            "         hello world\n",
            "hello world\n",
            "helloworld\n"
          ],
          "name": "stdout"
        }
      ]
    },
    {
      "cell_type": "markdown",
      "metadata": {
        "id": "qjCLqxmUcVsy"
      },
      "source": [
        "## 리스트\n",
        "\n",
        "* 순서가 있고, 수정이 가능합니다."
      ]
    },
    {
      "cell_type": "code",
      "metadata": {
        "id": "Z20kl_tIcoV4"
      },
      "source": [
        "a = [10,20,30,40,50,60,70,15]\n",
        "a\n",
        "a[0] # 0은 인덱스이고, a[0] 호출하는 것을 indexing이라고 합니다.\n",
        "a[0],a[1],a[2],a[3],a[4]\n",
        "a[0:5] # 슬라이싱, 자료형[start;stop:step] # 빈도가 높지않다.\n",
        "a[::2]  # 슬라이싱, 자료형[start;stop:step] # 안쓴다.\n",
        "a[::-1]  # 슬라이싱, 자료형[start;stop:step] # 자주쓰는 형태\n",
        "a[0] = 1000\n"
      ],
      "execution_count": null,
      "outputs": []
    },
    {
      "cell_type": "code",
      "metadata": {
        "colab": {
          "base_uri": "https://localhost:8080/",
          "height": 244
        },
        "id": "tOdtCgpIecsc",
        "outputId": "76deddd8-2a9f-4991-d1f4-c5993402a704"
      },
      "source": [
        "dir(a)\n",
        "\n",
        "a.append() # 값을 맨 뒤에 추가합니다. 잘쓴다.\n",
        "a.clea() # a에 모든 값을 비웁니다, 안쓴다.\n",
        "a.copy()  # a에 모든 값을 복사합니다.# 잘안쓴다\n",
        "a.count()  # a에서 특정한 값의 개수를 찾습니다. 잘쓴다.\n",
        "a.extend([10,20,30]) # a에 맨 뒤에 여러개의 값을 추가합니다. # 잘안쓴다\n",
        "a.index() # a에서 특장한 값의 인덱스를 찾습니다. #잘쓴다\n",
        "a.insert() # a에 중간에 값을 삽입합니다.# 잘쓴다\n",
        "a.pop() # a에 맨 뒤에 값을 빼냅니다. 빼낸 값은 삭제됩니다. 잘쓴다.\n",
        "a.remove(10000) # a에서 특장한 값을 삭제합니다 # 잘안쓴다\n",
        "a.reverse() # a에 값으 뒤집습니다. 잘쓴다\n",
        "a.sort() # a의 값을 정렬합니다. 잘쓴다"
      ],
      "execution_count": null,
      "outputs": [
        {
          "output_type": "error",
          "ename": "TypeError",
          "evalue": "ignored",
          "traceback": [
            "\u001b[0;31m---------------------------------------------------------------------------\u001b[0m",
            "\u001b[0;31mTypeError\u001b[0m                                 Traceback (most recent call last)",
            "\u001b[0;32m<ipython-input-26-112510be3941>\u001b[0m in \u001b[0;36m<module>\u001b[0;34m()\u001b[0m\n\u001b[1;32m      1\u001b[0m \u001b[0mdir\u001b[0m\u001b[0;34m(\u001b[0m\u001b[0ma\u001b[0m\u001b[0;34m)\u001b[0m\u001b[0;34m\u001b[0m\u001b[0;34m\u001b[0m\u001b[0m\n\u001b[1;32m      2\u001b[0m \u001b[0;34m\u001b[0m\u001b[0m\n\u001b[0;32m----> 3\u001b[0;31m \u001b[0ma\u001b[0m\u001b[0;34m.\u001b[0m\u001b[0mappend\u001b[0m\u001b[0;34m(\u001b[0m\u001b[0;34m)\u001b[0m \u001b[0;31m# 값을 맨 뒤에 추가합니다. 잘쓴다.\u001b[0m\u001b[0;34m\u001b[0m\u001b[0;34m\u001b[0m\u001b[0m\n\u001b[0m\u001b[1;32m      4\u001b[0m \u001b[0ma\u001b[0m\u001b[0;34m.\u001b[0m\u001b[0mclea\u001b[0m\u001b[0;34m(\u001b[0m\u001b[0;34m)\u001b[0m \u001b[0;31m# a에 모든 값을 비웁니다, 안쓴다.\u001b[0m\u001b[0;34m\u001b[0m\u001b[0;34m\u001b[0m\u001b[0m\n\u001b[1;32m      5\u001b[0m \u001b[0ma\u001b[0m\u001b[0;34m.\u001b[0m\u001b[0mcopy\u001b[0m\u001b[0;34m(\u001b[0m\u001b[0;34m)\u001b[0m  \u001b[0;31m# a에 모든 값을 복사합니다.# 잘안쓴다\u001b[0m\u001b[0;34m\u001b[0m\u001b[0;34m\u001b[0m\u001b[0m\n",
            "\u001b[0;31mTypeError\u001b[0m: append() takes exactly one argument (0 given)"
          ]
        }
      ]
    },
    {
      "cell_type": "code",
      "metadata": {
        "id": "OXYngZKKispz"
      },
      "source": [
        ""
      ],
      "execution_count": null,
      "outputs": []
    },
    {
      "cell_type": "code",
      "metadata": {
        "colab": {
          "base_uri": "https://localhost:8080/"
        },
        "id": "v7B5RkqZgZ16",
        "outputId": "87a4d597-e913-4881-edee-c23aeb8b9c5c"
      },
      "source": [
        "a.append(100)\n",
        "a.append(100)\n",
        "a"
      ],
      "execution_count": null,
      "outputs": [
        {
          "output_type": "execute_result",
          "data": {
            "text/plain": [
              "[1000, 20, 30, 40, 50, 60, 70, 15, 100, 100, 100, 100, 100, 100, 100, 100]"
            ]
          },
          "metadata": {
            "tags": []
          },
          "execution_count": 20
        }
      ]
    },
    {
      "cell_type": "code",
      "metadata": {
        "colab": {
          "base_uri": "https://localhost:8080/"
        },
        "id": "g0Dm4RqWgxXY",
        "outputId": "de91b89e-362f-423c-f4b3-29fdc81c048c"
      },
      "source": [
        "a.count(100) # 제주에서 주차장있는 곳은 몇개인가 일때 사용"
      ],
      "execution_count": null,
      "outputs": [
        {
          "output_type": "execute_result",
          "data": {
            "text/plain": [
              "8"
            ]
          },
          "metadata": {
            "tags": []
          },
          "execution_count": 22
        }
      ]
    },
    {
      "cell_type": "code",
      "metadata": {
        "colab": {
          "base_uri": "https://localhost:8080/"
        },
        "id": "Xaq5vPNog7Db",
        "outputId": "cedab677-b351-43f1-ffe8-0c90c907c1da"
      },
      "source": [
        "a.sort()\n",
        "a"
      ],
      "execution_count": null,
      "outputs": [
        {
          "output_type": "execute_result",
          "data": {
            "text/plain": [
              "[15, 20, 30, 40, 50, 60, 70, 100, 100, 100, 100, 100, 100, 100, 100, 1000]"
            ]
          },
          "metadata": {
            "tags": []
          },
          "execution_count": 24
        }
      ]
    },
    {
      "cell_type": "code",
      "metadata": {
        "colab": {
          "base_uri": "https://localhost:8080/"
        },
        "id": "ngPhJ-FIhBEN",
        "outputId": "b611accf-7f4d-4f03-a5a5-bdc9e3c12b3d"
      },
      "source": [
        "a.reverse()\n",
        "a"
      ],
      "execution_count": null,
      "outputs": [
        {
          "output_type": "execute_result",
          "data": {
            "text/plain": [
              "[1000, 100, 100, 100, 100, 100, 100, 100, 100, 70, 60, 50, 40, 30, 20, 15]"
            ]
          },
          "metadata": {
            "tags": []
          },
          "execution_count": 25
        }
      ]
    },
    {
      "cell_type": "markdown",
      "metadata": {
        "id": "BcKXXyZwoAXc"
      },
      "source": [
        "## 튜플 딕셔너리 셋\n"
      ]
    },
    {
      "cell_type": "code",
      "metadata": {
        "colab": {
          "base_uri": "https://localhost:8080/"
        },
        "id": "BLcqpySQjT2s",
        "outputId": "20bf5ab3-9e1c-4ac9-a7e4-7b171f2cb27e"
      },
      "source": [
        "#튜플은 순서가 있고 값을 변경할 수 없습니다.\n",
        "\n",
        "t = (10, 20, 30)\n",
        "t"
      ],
      "execution_count": null,
      "outputs": [
        {
          "output_type": "execute_result",
          "data": {
            "text/plain": [
              "(10, 20, 30)"
            ]
          },
          "metadata": {
            "tags": []
          },
          "execution_count": 32
        }
      ]
    },
    {
      "cell_type": "code",
      "metadata": {
        "colab": {
          "base_uri": "https://localhost:8080/"
        },
        "id": "sShffDeCjb5m",
        "outputId": "533b7121-7180-4bd6-9db6-5639e37980e1"
      },
      "source": [
        "dir(t)"
      ],
      "execution_count": null,
      "outputs": [
        {
          "output_type": "execute_result",
          "data": {
            "text/plain": [
              "['__add__',\n",
              " '__class__',\n",
              " '__contains__',\n",
              " '__delattr__',\n",
              " '__dir__',\n",
              " '__doc__',\n",
              " '__eq__',\n",
              " '__format__',\n",
              " '__ge__',\n",
              " '__getattribute__',\n",
              " '__getitem__',\n",
              " '__getnewargs__',\n",
              " '__gt__',\n",
              " '__hash__',\n",
              " '__init__',\n",
              " '__init_subclass__',\n",
              " '__iter__',\n",
              " '__le__',\n",
              " '__len__',\n",
              " '__lt__',\n",
              " '__mul__',\n",
              " '__ne__',\n",
              " '__new__',\n",
              " '__reduce__',\n",
              " '__reduce_ex__',\n",
              " '__repr__',\n",
              " '__rmul__',\n",
              " '__setattr__',\n",
              " '__sizeof__',\n",
              " '__str__',\n",
              " '__subclasshook__',\n",
              " 'count',\n",
              " 'index']"
            ]
          },
          "metadata": {
            "tags": []
          },
          "execution_count": 34
        }
      ]
    },
    {
      "cell_type": "code",
      "metadata": {
        "colab": {
          "base_uri": "https://localhost:8080/",
          "height": 36
        },
        "id": "RouIwDIumbnK",
        "outputId": "5f8a38e5-d352-413a-c20c-60f467b4e290"
      },
      "source": [
        "# 딕셔너리 (key:value) 형태로 매칭\n",
        "\n",
        "영한번역 = {'one':'하나','two':'둘'}\n",
        "영한번역['one']\n"
      ],
      "execution_count": null,
      "outputs": [
        {
          "output_type": "execute_result",
          "data": {
            "application/vnd.google.colaboratory.intrinsic+json": {
              "type": "string"
            },
            "text/plain": [
              "'하나'"
            ]
          },
          "metadata": {
            "tags": []
          },
          "execution_count": 35
        }
      ]
    },
    {
      "cell_type": "code",
      "metadata": {
        "colab": {
          "base_uri": "https://localhost:8080/"
        },
        "id": "S1tV4aEPnb2s",
        "outputId": "b22dd730-8b4a-4a4f-bd4c-8096eadb7bd5"
      },
      "source": [
        "# 셋 (집합, 합집합,차집합,교집합) # 많이 사용안한다.\n",
        "s = {10,20,30,30,30}\n",
        "ss = {10,4,50}\n",
        "s | ss # 합집합\n",
        "s & ss #교집합\n",
        "s - ss #차집합"
      ],
      "execution_count": null,
      "outputs": [
        {
          "output_type": "execute_result",
          "data": {
            "text/plain": [
              "{20, 30}"
            ]
          },
          "metadata": {
            "tags": []
          },
          "execution_count": 41
        }
      ]
    },
    {
      "cell_type": "markdown",
      "metadata": {
        "id": "WwTNI7-coylD"
      },
      "source": [
        "## f-string"
      ]
    },
    {
      "cell_type": "code",
      "metadata": {
        "colab": {
          "base_uri": "https://localhost:8080/"
        },
        "id": "SFtLsllKo2c9",
        "outputId": "9fdfc4d6-a434-4c1e-b1cc-6986912ac0e1"
      },
      "source": [
        "age = 10\n",
        "name = 'leehojun'\n",
        "print('제이름은 leehojun입니다. 제 나이는 10살입니다.')\n",
        "print('제이름은',name,'입니다.' '제 나이는', age, '살입니다.')\n",
        "print('제이름은 {}입니다. 제 나이는 {}살입니다.'.format(name,age))\n",
        "print(f'제이름은 {name}입니다. 제 나이는 {age+age}살입니다.') # 최신문법 이것만 쓴다."
      ],
      "execution_count": null,
      "outputs": [
        {
          "output_type": "stream",
          "text": [
            "제이름은 leehojun입니다. 제 나이는 10살입니다.\n",
            "제이름은 leehojun 입니다.제 나이는 10 살입니다.\n",
            "제이름은 leehojun입니다. 제 나이는 10살입니다.\n",
            "제이름은 leehojun입니다. 제 나이는 20살입니다.\n"
          ],
          "name": "stdout"
        }
      ]
    },
    {
      "cell_type": "markdown",
      "metadata": {
        "id": "JpAZdGTSruzH"
      },
      "source": [
        "## built in function\n",
        "\n",
        "*abs() : 절대값\n",
        "*min() : 최소값\n",
        "*max() : 최대값\n",
        "*dir() : 매서드 확인\n",
        "*id() 메모리 주소 확인\n",
        "*sorted() : 정렬\n",
        "*reversed() : 역순(역정렬 아님)\n",
        "*enumerate() : 순서를 매김 (for 하면서 설명)\n",
        "\n",
        "*형변환:\n",
        "  *set() : 집합으로 형변화\n",
        "  *dict() : 딕셔너리 형변환\n",
        "  *bool() : 불리언으로 형변환\n",
        "  *int() : 정수형으로 형변환\n",
        "  *str() : 문자열료 형변환\n",
        "*ord() : 문자를 숫자로 변환\n",
        "*chr() : 숫자를 문자로 변환\n",
        "*sum() : 전부 더함(더할수 없으면 애러)\n",
        "*filter() : 필터링(수학점수 90점 이상인 사람?)\n",
        "*print() : 출력\n",
        "*format() : 콤마 찍기\n",
        "*len() : 길이 출력!! 중요!!!!\n",
        "*type() : 타입 알아보기 중요!!\n",
        "*list()\n",
        "*range() : 연속된 값 생성(0~99 -> range(100))\n",
        "*zip('abc','def')\n",
        "*map(lambda x:x**2,[1,2,3])\n",
        "*round() : 소수점 자리 반올림\n"
      ]
    },
    {
      "cell_type": "code",
      "metadata": {
        "colab": {
          "base_uri": "https://localhost:8080/"
        },
        "id": "Bdz_p_VDxICy",
        "outputId": "d9864331-3511-4485-b1d2-e14b90c37a72"
      },
      "source": [
        "list(zip('abc','def'))"
      ],
      "execution_count": null,
      "outputs": [
        {
          "output_type": "execute_result",
          "data": {
            "text/plain": [
              "[('a', 'd'), ('b', 'e'), ('c', 'f')]"
            ]
          },
          "metadata": {
            "tags": []
          },
          "execution_count": 57
        }
      ]
    },
    {
      "cell_type": "code",
      "metadata": {
        "colab": {
          "base_uri": "https://localhost:8080/"
        },
        "id": "ESI2VhKCxUx-",
        "outputId": "57bdde69-4189-4366-a70e-4af70ebbd44f"
      },
      "source": [
        "list(map(lambda x:x**2,[1,2,3]))"
      ],
      "execution_count": null,
      "outputs": [
        {
          "output_type": "execute_result",
          "data": {
            "text/plain": [
              "[1, 4, 9]"
            ]
          },
          "metadata": {
            "tags": []
          },
          "execution_count": 59
        }
      ]
    },
    {
      "cell_type": "code",
      "metadata": {
        "colab": {
          "base_uri": "https://localhost:8080/"
        },
        "id": "xgJJ5wO60Eia",
        "outputId": "209b5c6d-1bd6-44e8-8eb1-0917557d6681"
      },
      "source": [
        "0.1 + 0.2"
      ],
      "execution_count": null,
      "outputs": [
        {
          "output_type": "execute_result",
          "data": {
            "text/plain": [
              "0.30000000000000004"
            ]
          },
          "metadata": {
            "tags": []
          },
          "execution_count": 61
        }
      ]
    },
    {
      "cell_type": "markdown",
      "metadata": {
        "id": "_AphON8n0NTT"
      },
      "source": [
        "## 조건문\n"
      ]
    },
    {
      "cell_type": "code",
      "metadata": {
        "colab": {
          "base_uri": "https://localhost:8080/"
        },
        "id": "Vm6Fm1Ct1FNC",
        "outputId": "e7e01330-022e-4aad-8326-f153bcac7e98"
      },
      "source": [
        "if True:\n",
        "  print('hello')\n",
        "print('end')  "
      ],
      "execution_count": null,
      "outputs": [
        {
          "output_type": "stream",
          "text": [
            "hello\n",
            "end\n"
          ],
          "name": "stdout"
        }
      ]
    },
    {
      "cell_type": "code",
      "metadata": {
        "id": "aiCnzwHD1aPn"
      },
      "source": [
        "if True:\n",
        "  print('hello')\n",
        "print('end')  "
      ],
      "execution_count": null,
      "outputs": []
    },
    {
      "cell_type": "code",
      "metadata": {
        "colab": {
          "base_uri": "https://localhost:8080/"
        },
        "id": "C96v5nIF0QE_",
        "outputId": "bab99f41-a6e5-4c9d-fc70-2a690ad6a0af"
      },
      "source": [
        "score = 89\n",
        "money = 0\n",
        "\n",
        "if score > 90:\n",
        "  print('mom: i\\'m so happy')\n",
        "  money += 1000000 # money = money + 1000000, 활당연산이라 부릅니다.\n",
        "elif score > 80:\n",
        "  print('mom: im so happy')\n",
        "  money += 100000\n",
        "elif score > 70:\n",
        "  print('mom: im so happy')\n",
        "  money += 10000\n",
        "else:\n",
        "  print('mom: ...')\n",
        "\n",
        "print(money)"
      ],
      "execution_count": null,
      "outputs": [
        {
          "output_type": "stream",
          "text": [
            "mom: im so happy\n",
            "100000\n"
          ],
          "name": "stdout"
        }
      ]
    },
    {
      "cell_type": "markdown",
      "metadata": {
        "id": "Wf3bWK_52rQD"
      },
      "source": [
        "## 문제 풀이와 업다운 게임 제작"
      ]
    },
    {
      "cell_type": "code",
      "metadata": {
        "colab": {
          "base_uri": "https://localhost:8080/"
        },
        "id": "5AAWTPkt3r8X",
        "outputId": "311466a8-dcf9-4e8c-f87e-82b806105656"
      },
      "source": [
        "str(list(range(100)))\n",
        "str(list(range(100))).count('8')\n",
        "str(list(range(10001))).count('8')"
      ],
      "execution_count": null,
      "outputs": [
        {
          "output_type": "execute_result",
          "data": {
            "text/plain": [
              "4000"
            ]
          },
          "metadata": {
            "tags": []
          },
          "execution_count": 73
        }
      ]
    },
    {
      "cell_type": "code",
      "metadata": {
        "id": "mHK4S9fG4tG2"
      },
      "source": [
        "리스트 = [1,3,4,8,13,17,20]\n",
        "리스트둘 = 리스트[1:]"
      ],
      "execution_count": null,
      "outputs": []
    },
    {
      "cell_type": "code",
      "metadata": {
        "colab": {
          "base_uri": "https://localhost:8080/"
        },
        "id": "nYwKJ7jC5J3E",
        "outputId": "42245b73-3a6c-4924-ff0f-5a302a9f3d9b"
      },
      "source": [
        "list(zip(리스트,리스트둘))"
      ],
      "execution_count": null,
      "outputs": [
        {
          "output_type": "execute_result",
          "data": {
            "text/plain": [
              "[(1, 3), (3, 4), (4, 8), (8, 13), (13, 17), (17, 20)]"
            ]
          },
          "metadata": {
            "tags": []
          },
          "execution_count": 82
        }
      ]
    },
    {
      "cell_type": "code",
      "metadata": {
        "colab": {
          "base_uri": "https://localhost:8080/"
        },
        "id": "2-EghzwJ5XBZ",
        "outputId": "9f3c51ee-0054-47b4-e15c-114335bb9ea5"
      },
      "source": [
        "묶어준리스트 = list(zip(리스트,리스트둘))\n",
        "묶어준리스트.sort(key=lambda x:x[0]-x[1], reverse=True)\n",
        "묶어준리스트\n",
        "묶어준리스트[0]"
      ],
      "execution_count": null,
      "outputs": [
        {
          "output_type": "execute_result",
          "data": {
            "text/plain": [
              "(3, 4)"
            ]
          },
          "metadata": {
            "tags": []
          },
          "execution_count": 88
        }
      ]
    },
    {
      "cell_type": "code",
      "metadata": {
        "colab": {
          "base_uri": "https://localhost:8080/"
        },
        "id": "yDVfeWi67JaI",
        "outputId": "ecd247f9-dc54-4612-a973-30434a48d5ec"
      },
      "source": [
        "import random\n",
        "정답 = random.randint(1,100)\n",
        "\n",
        "while True:\n",
        "    user = int(input('숫자를 입력해주세요.'))\n",
        "    if user < 정답:\n",
        "        print('Up')\n",
        "    elif user > 정답:\n",
        "        print('Down')      \n",
        "    else:\n",
        "        print('정답')    \n",
        "        break"
      ],
      "execution_count": null,
      "outputs": [
        {
          "output_type": "stream",
          "text": [
            "숫자를 입력해주세요.12\n",
            "Up\n",
            "숫자를 입력해주세요.50\n",
            "Down\n",
            "숫자를 입력해주세요.40\n",
            "Up\n",
            "숫자를 입력해주세요.43\n",
            "Down\n",
            "숫자를 입력해주세요.42\n",
            "Down\n",
            "숫자를 입력해주세요.41\n",
            "정답\n"
          ],
          "name": "stdout"
        }
      ]
    },
    {
      "cell_type": "markdown",
      "metadata": {
        "id": "cfhcR-vJ-Xme"
      },
      "source": [
        "## 반복"
      ]
    },
    {
      "cell_type": "code",
      "metadata": {
        "colab": {
          "base_uri": "https://localhost:8080/"
        },
        "id": "uJ8qaTV8-aQn",
        "outputId": "d2cf8ae6-f8eb-4a8c-e7a6-0a499506cff7"
      },
      "source": [
        "for i in range(10):\n",
        "    print(i)"
      ],
      "execution_count": null,
      "outputs": [
        {
          "output_type": "stream",
          "text": [
            "0\n",
            "1\n",
            "2\n",
            "3\n",
            "4\n",
            "5\n",
            "6\n",
            "7\n",
            "8\n",
            "9\n"
          ],
          "name": "stdout"
        }
      ]
    },
    {
      "cell_type": "code",
      "metadata": {
        "colab": {
          "base_uri": "https://localhost:8080/"
        },
        "id": "j1h7IV6_BsVa",
        "outputId": "11de9c18-211c-4c5b-840a-6d0879155a00"
      },
      "source": [
        "list(range(10)) #stop\n",
        "list(range(0,10,2)) #start, stop,step\n",
        "list(range(5,10)) #start, stop\n",
        "list(range(10,5,-1)) #start, stop,step"
      ],
      "execution_count": null,
      "outputs": [
        {
          "output_type": "execute_result",
          "data": {
            "text/plain": [
              "[10, 9, 8, 7, 6]"
            ]
          },
          "metadata": {
            "tags": []
          },
          "execution_count": 109
        }
      ]
    },
    {
      "cell_type": "code",
      "metadata": {
        "colab": {
          "base_uri": "https://localhost:8080/"
        },
        "id": "_3v83Fj2C9Xq",
        "outputId": "2d63d16b-0eaf-46f1-83da-d9d213c78095"
      },
      "source": [
        "s = 0\n",
        "for i in range(101):\n",
        "        s = s + i\n",
        "print(s)    "
      ],
      "execution_count": null,
      "outputs": [
        {
          "output_type": "stream",
          "text": [
            "5050\n"
          ],
          "name": "stdout"
        }
      ]
    },
    {
      "cell_type": "code",
      "metadata": {
        "colab": {
          "base_uri": "https://localhost:8080/"
        },
        "id": "SBhitsofDiby",
        "outputId": "d3f55875-67ed-40c9-95ee-0fd1664ffb02"
      },
      "source": [
        "s = 0\n",
        "for i in range(0,101,2):\n",
        "        s = s + i\n",
        "print(s)    "
      ],
      "execution_count": null,
      "outputs": [
        {
          "output_type": "stream",
          "text": [
            "2550\n"
          ],
          "name": "stdout"
        }
      ]
    },
    {
      "cell_type": "code",
      "metadata": {
        "colab": {
          "base_uri": "https://localhost:8080/"
        },
        "id": "RdnA9LKWDxIt",
        "outputId": "407b499c-6247-464a-f68c-13e9cb37d0b3"
      },
      "source": [
        "sum(range(0,101,2))"
      ],
      "execution_count": null,
      "outputs": [
        {
          "output_type": "execute_result",
          "data": {
            "text/plain": [
              "2550"
            ]
          },
          "metadata": {
            "tags": []
          },
          "execution_count": 115
        }
      ]
    },
    {
      "cell_type": "code",
      "metadata": {
        "colab": {
          "base_uri": "https://localhost:8080/"
        },
        "id": "nAMrJX4MCS57",
        "outputId": "4c4230dc-2bb8-4c6b-9924-7a9f1f92a28a"
      },
      "source": [
        "s = 0\n",
        "for i in range(101):\n",
        "    if i % 2 == 0: #2로 나눈 나머지가 0 이면 짝수 1이면 홀수\n",
        "        s = s + i\n",
        "print(s)    "
      ],
      "execution_count": null,
      "outputs": [
        {
          "output_type": "stream",
          "text": [
            "2550\n"
          ],
          "name": "stdout"
        }
      ]
    },
    {
      "cell_type": "code",
      "metadata": {
        "colab": {
          "base_uri": "https://localhost:8080/"
        },
        "id": "dbMYrX8fEsDB",
        "outputId": "700f234b-16a6-4145-8bdc-083c000f497f"
      },
      "source": [
        "for i in range(1,10):\n",
        "    print(f'{2}*{i}={2*i}')\n",
        "for i in range(1,10):\n",
        "    print(f'{3}*{i}={3*i}')\n",
        "for i in range(1,10):\n",
        "    print(f'{4}*{i}={4*i}')\n",
        "for i in range(1,10):\n",
        "    print(f'{5}*{i}={5*i}')\n",
        "for i in range(1,10):\n",
        "    print(f'{6}*{i}={6*i}')\n",
        "for i in range(1,10):\n",
        "    print(f'{7}*{i}={7*i}')\n",
        "for i in range(1,10):\n",
        "    print(f'{8}*{i}={8*i}')\n",
        "for i in range(1,10):\n",
        "    print(f'{9}*{i}={9*i}')\n"
      ],
      "execution_count": null,
      "outputs": [
        {
          "output_type": "stream",
          "text": [
            "2*1=2\n",
            "2*2=4\n",
            "2*3=6\n",
            "2*4=8\n",
            "2*5=10\n",
            "2*6=12\n",
            "2*7=14\n",
            "2*8=16\n",
            "2*9=18\n",
            "3*1=3\n",
            "3*2=6\n",
            "3*3=9\n",
            "3*4=12\n",
            "3*5=15\n",
            "3*6=18\n",
            "3*7=21\n",
            "3*8=24\n",
            "3*9=27\n",
            "4*1=4\n",
            "4*2=8\n",
            "4*3=12\n",
            "4*4=16\n",
            "4*5=20\n",
            "4*6=24\n",
            "4*7=28\n",
            "4*8=32\n",
            "4*9=36\n",
            "5*1=5\n",
            "5*2=10\n",
            "5*3=15\n",
            "5*4=20\n",
            "5*5=25\n",
            "5*6=30\n",
            "5*7=35\n",
            "5*8=40\n",
            "5*9=45\n",
            "6*1=6\n",
            "6*2=12\n",
            "6*3=18\n",
            "6*4=24\n",
            "6*5=30\n",
            "6*6=36\n",
            "6*7=42\n",
            "6*8=48\n",
            "6*9=54\n",
            "7*1=7\n",
            "7*2=14\n",
            "7*3=21\n",
            "7*4=28\n",
            "7*5=35\n",
            "7*6=42\n",
            "7*7=49\n",
            "7*8=56\n",
            "7*9=63\n",
            "8*1=8\n",
            "8*2=16\n",
            "8*3=24\n",
            "8*4=32\n",
            "8*5=40\n",
            "8*6=48\n",
            "8*7=56\n",
            "8*8=64\n",
            "8*9=72\n",
            "9*1=9\n",
            "9*2=18\n",
            "9*3=27\n",
            "9*4=36\n",
            "9*5=45\n",
            "9*6=54\n",
            "9*7=63\n",
            "9*8=72\n",
            "9*9=81\n"
          ],
          "name": "stdout"
        }
      ]
    },
    {
      "cell_type": "code",
      "metadata": {
        "colab": {
          "base_uri": "https://localhost:8080/"
        },
        "id": "_iaKXeDxFy-S",
        "outputId": "2b1b22c7-db23-4dfe-eddf-2c79d83d8836"
      },
      "source": [
        "for 단 in range(2,10):\n",
        "    for i in range(1,10):\n",
        "        print(f'{단}*{i}={단*i}')"
      ],
      "execution_count": null,
      "outputs": [
        {
          "output_type": "stream",
          "text": [
            "2*1=2\n",
            "2*2=4\n",
            "2*3=6\n",
            "2*4=8\n",
            "2*5=10\n",
            "2*6=12\n",
            "2*7=14\n",
            "2*8=16\n",
            "2*9=18\n",
            "3*1=3\n",
            "3*2=6\n",
            "3*3=9\n",
            "3*4=12\n",
            "3*5=15\n",
            "3*6=18\n",
            "3*7=21\n",
            "3*8=24\n",
            "3*9=27\n",
            "4*1=4\n",
            "4*2=8\n",
            "4*3=12\n",
            "4*4=16\n",
            "4*5=20\n",
            "4*6=24\n",
            "4*7=28\n",
            "4*8=32\n",
            "4*9=36\n",
            "5*1=5\n",
            "5*2=10\n",
            "5*3=15\n",
            "5*4=20\n",
            "5*5=25\n",
            "5*6=30\n",
            "5*7=35\n",
            "5*8=40\n",
            "5*9=45\n",
            "6*1=6\n",
            "6*2=12\n",
            "6*3=18\n",
            "6*4=24\n",
            "6*5=30\n",
            "6*6=36\n",
            "6*7=42\n",
            "6*8=48\n",
            "6*9=54\n",
            "7*1=7\n",
            "7*2=14\n",
            "7*3=21\n",
            "7*4=28\n",
            "7*5=35\n",
            "7*6=42\n",
            "7*7=49\n",
            "7*8=56\n",
            "7*9=63\n",
            "8*1=8\n",
            "8*2=16\n",
            "8*3=24\n",
            "8*4=32\n",
            "8*5=40\n",
            "8*6=48\n",
            "8*7=56\n",
            "8*8=64\n",
            "8*9=72\n",
            "9*1=9\n",
            "9*2=18\n",
            "9*3=27\n",
            "9*4=36\n",
            "9*5=45\n",
            "9*6=54\n",
            "9*7=63\n",
            "9*8=72\n",
            "9*9=81\n"
          ],
          "name": "stdout"
        }
      ]
    },
    {
      "cell_type": "code",
      "metadata": {
        "colab": {
          "base_uri": "https://localhost:8080/"
        },
        "id": "_kk0PPQdGWc2",
        "outputId": "71e0a0a3-18cf-438e-986b-c71524c1d809"
      },
      "source": [
        "x = 0\n",
        "while x < 10:\n",
        "    print(x)\n",
        "    x += 1"
      ],
      "execution_count": null,
      "outputs": [
        {
          "output_type": "stream",
          "text": [
            "0\n",
            "1\n",
            "2\n",
            "3\n",
            "4\n",
            "5\n",
            "6\n",
            "7\n",
            "8\n",
            "9\n"
          ],
          "name": "stdout"
        }
      ]
    },
    {
      "cell_type": "code",
      "metadata": {
        "colab": {
          "base_uri": "https://localhost:8080/"
        },
        "id": "KqjYHgKhGktV",
        "outputId": "d774c634-fd6d-4b85-9c52-2cafda6eb87c"
      },
      "source": [
        "x = 1\n",
        "while x < 10:\n",
        "    print(f'{2}*{x}={2*x}')\n",
        "    x += 1"
      ],
      "execution_count": null,
      "outputs": [
        {
          "output_type": "stream",
          "text": [
            "2*1=2\n",
            "2*2=4\n",
            "2*3=6\n",
            "2*4=8\n",
            "2*5=10\n",
            "2*6=12\n",
            "2*7=14\n",
            "2*8=16\n",
            "2*9=18\n"
          ],
          "name": "stdout"
        }
      ]
    },
    {
      "cell_type": "markdown",
      "metadata": {
        "id": "CkHhT2gDH9kS"
      },
      "source": [
        "## 모듈"
      ]
    },
    {
      "cell_type": "code",
      "metadata": {
        "id": "1gwH7QIsH_nR"
      },
      "source": [
        "#filename = test.py # 모튤은 .py 파일과 마찬가지이다\n",
        "# name = 'leehojun'\n",
        "# age = 10"
      ],
      "execution_count": null,
      "outputs": []
    },
    {
      "cell_type": "code",
      "metadata": {
        "colab": {
          "base_uri": "https://localhost:8080/"
        },
        "id": "Ika3IbpiJpCz",
        "outputId": "f3ab0538-71cf-42ec-ac8a-393a807aa2f5"
      },
      "source": [
        "#import test\n",
        "import test as t\n",
        "print(t.name)\n",
        "print(t.age)"
      ],
      "execution_count": null,
      "outputs": [
        {
          "output_type": "stream",
          "text": [
            "leehojun\n",
            "10\n"
          ],
          "name": "stdout"
        }
      ]
    },
    {
      "cell_type": "code",
      "metadata": {
        "colab": {
          "base_uri": "https://localhost:8080/"
        },
        "id": "ZHfQsFZqKWty",
        "outputId": "fa0592fb-71d2-403f-d27c-c67db6f7d2fc"
      },
      "source": [
        "from test import name,age # from은 test의 파일 이름이 비숫한 모튤이 두개이면  애러가 난다 \n",
        "print(name)\n",
        "print(age)"
      ],
      "execution_count": null,
      "outputs": [
        {
          "output_type": "stream",
          "text": [
            "leehojun\n",
            "10\n"
          ],
          "name": "stdout"
        }
      ]
    },
    {
      "cell_type": "markdown",
      "metadata": {
        "id": "urp6rP837qsI"
      },
      "source": [
        "##함수\n",
        "\n",
        "1. 재사용을 높일 수 있다.\n",
        "2. 코드의 구조를 파악하기 쉽다\n",
        "3. 유지보수를 쉽게 할 수 있다."
      ]
    },
    {
      "cell_type": "code",
      "metadata": {
        "colab": {
          "base_uri": "https://localhost:8080/"
        },
        "id": "6PzbZMdu7vBV",
        "outputId": "2e8659ad-0998-4e65-8233-07d1272e11f2"
      },
      "source": [
        "def 더하기(x,y):\n",
        "    return x + y\n",
        "\n",
        "더하기(10,20)    "
      ],
      "execution_count": null,
      "outputs": [
        {
          "output_type": "execute_result",
          "data": {
            "text/plain": [
              "30"
            ]
          },
          "metadata": {
            "tags": []
          },
          "execution_count": 12
        }
      ]
    },
    {
      "cell_type": "code",
      "metadata": {
        "colab": {
          "base_uri": "https://localhost:8080/"
        },
        "id": "LZ1yqioC8JbD",
        "outputId": "2467ed1c-a41d-4878-9d98-5b672a7c06d1"
      },
      "source": [
        "def 원의넓이(r):\n",
        "    return(r**2)*3.14\n",
        "\n",
        "print(원의넓이(10)+100)\n",
        "print(원의넓이(10)+50)    "
      ],
      "execution_count": null,
      "outputs": [
        {
          "output_type": "stream",
          "text": [
            "414.0\n",
            "364.0\n"
          ],
          "name": "stdout"
        }
      ]
    },
    {
      "cell_type": "code",
      "metadata": {
        "colab": {
          "base_uri": "https://localhost:8080/"
        },
        "id": "Xc8QqBlP8fvn",
        "outputId": "f3d13ecb-fbf6-4d33-df94-d807888801bb"
      },
      "source": [
        "점수 = [10,20,30,40]\n",
        "def 평균(반점수):\n",
        "    s = 0\n",
        "    for i in 반점수:\n",
        "        s += i\n",
        "    return s / len(반점수)\n",
        "\n",
        "print(평균(점수))\n",
        "print(평균(점수)+5)        "
      ],
      "execution_count": null,
      "outputs": [
        {
          "output_type": "stream",
          "text": [
            "25.0\n",
            "30.0\n"
          ],
          "name": "stdout"
        }
      ]
    },
    {
      "cell_type": "markdown",
      "metadata": {
        "id": "LDA6V96sLETM"
      },
      "source": [
        "## 파일출력"
      ]
    },
    {
      "cell_type": "code",
      "metadata": {
        "id": "FEhbXrcZLF2n"
      },
      "source": [
        "f = open(\"구구단.txt\", 'w') # r(읽음).w(작성, 덮어씀), a(추가)\n",
        "data = ''\n",
        "for 단 in range(2,10):\n",
        "    for i in range(1,10):\n",
        "        data += f'{단}*{i}={단*i}\\n'\n",
        "f.write(data)\n",
        "f.close()"
      ],
      "execution_count": null,
      "outputs": []
    },
    {
      "cell_type": "markdown",
      "metadata": {
        "id": "sStsmvP24Zyv"
      },
      "source": [
        "## 클래스\n",
        "*현실세계의 개념을 code로 옮겨놓은것\n",
        "\n",
        "*클래스의 첫문자열은 대문자로 합니다"
      ]
    },
    {
      "cell_type": "code",
      "metadata": {
        "id": "xj5_0tKl4iFu"
      },
      "source": [
        "class Car:\n",
        "    # 클래스 변수 또는 맴버\n",
        "    maxspeed = 300\n",
        "    maxpeople = 5\n",
        "    \n",
        "    #메서드\n",
        "    def start(self):\n",
        "        print('출발하였습니다.')\n",
        "    def stop(self):\n",
        "        print('멈췄습니다.')   "
      ],
      "execution_count": null,
      "outputs": []
    },
    {
      "cell_type": "code",
      "metadata": {
        "colab": {
          "base_uri": "https://localhost:8080/"
        },
        "id": "51FzdLHf5WGy",
        "outputId": "4a60f82c-cfaa-4948-c616-162bd9cf1f37"
      },
      "source": [
        "audi = Car() # audi라는 인스턴스 생성 Car는 클래스\n",
        "bmw = Car() # bmw라는 인스턴스 생성\n",
        "\n",
        "audi.start()\n",
        "print(audi.maxpeople)\n",
        "print(Car.maxspeed) # 이렇게 실행하시면 안됩니다."
      ],
      "execution_count": null,
      "outputs": [
        {
          "output_type": "stream",
          "text": [
            "출발하였습니다.\n",
            "5\n",
            "300\n"
          ],
          "name": "stdout"
        }
      ]
    },
    {
      "cell_type": "code",
      "metadata": {
        "colab": {
          "base_uri": "https://localhost:8080/"
        },
        "id": "rJlJLyyb6gwf",
        "outputId": "40dbe710-eddc-4341-9e93-d139f6d8631c"
      },
      "source": [
        "dir(audi)"
      ],
      "execution_count": null,
      "outputs": [
        {
          "output_type": "execute_result",
          "data": {
            "text/plain": [
              "['__class__',\n",
              " '__delattr__',\n",
              " '__dict__',\n",
              " '__dir__',\n",
              " '__doc__',\n",
              " '__eq__',\n",
              " '__format__',\n",
              " '__ge__',\n",
              " '__getattribute__',\n",
              " '__gt__',\n",
              " '__hash__',\n",
              " '__init__',\n",
              " '__init_subclass__',\n",
              " '__le__',\n",
              " '__lt__',\n",
              " '__module__',\n",
              " '__ne__',\n",
              " '__new__',\n",
              " '__reduce__',\n",
              " '__reduce_ex__',\n",
              " '__repr__',\n",
              " '__setattr__',\n",
              " '__sizeof__',\n",
              " '__str__',\n",
              " '__subclasshook__',\n",
              " '__weakref__',\n",
              " 'maxpeople',\n",
              " 'maxspeed',\n",
              " 'start',\n",
              " 'stop']"
            ]
          },
          "metadata": {
            "tags": []
          },
          "execution_count": 9
        }
      ]
    },
    {
      "cell_type": "code",
      "metadata": {
        "colab": {
          "base_uri": "https://localhost:8080/"
        },
        "id": "qSTBhZYv6vv1",
        "outputId": "8e916900-1ee0-4dbc-afc7-1365c02fb63c"
      },
      "source": [
        "class 전기차(Car):\n",
        "    배터리 = 100\n",
        "    배터리에_따라_갈_수_있는_거리 = 300\n",
        "\n",
        "전기차audi = 전기차()\n",
        "전기차audi.start()    "
      ],
      "execution_count": null,
      "outputs": [
        {
          "output_type": "stream",
          "text": [
            "출발하였습니다.\n"
          ],
          "name": "stdout"
        }
      ]
    }
  ]
}